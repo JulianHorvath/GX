{
 "cells": [
  {
   "cell_type": "markdown",
   "metadata": {
    "application/vnd.databricks.v1+cell": {
     "cellMetadata": {},
     "inputWidgets": {},
     "nuid": "cbdc43cb-6c5a-4422-986b-9c60e441dccb",
     "showTitle": false,
     "tableResultSettingsMap": {},
     "title": ""
    }
   },
   "source": [
    "### Installation/import dependencies"
   ]
  },
  {
   "cell_type": "code",
   "execution_count": 0,
   "metadata": {
    "application/vnd.databricks.v1+cell": {
     "cellMetadata": {
      "byteLimit": 2048000,
      "rowLimit": 10000
     },
     "inputWidgets": {},
     "nuid": "dd8f90e5-0c28-4d2c-b3cc-1f6afc9680a7",
     "showTitle": false,
     "tableResultSettingsMap": {},
     "title": ""
    }
   },
   "outputs": [],
   "source": [
    "# Install great_expectations\n",
    "!pip install 'great_expectations[spark]'\n",
    "dbutils.library.restartPython()"
   ]
  },
  {
   "cell_type": "code",
   "execution_count": 0,
   "metadata": {
    "application/vnd.databricks.v1+cell": {
     "cellMetadata": {
      "byteLimit": 2048000,
      "rowLimit": 10000
     },
     "inputWidgets": {},
     "nuid": "5937721a-8944-459d-ba7c-fb3633e9f643",
     "showTitle": false,
     "tableResultSettingsMap": {},
     "title": ""
    }
   },
   "outputs": [],
   "source": [
    "# Import neccesary modules\n",
    "from pyspark.sql import SparkSession, Row\n",
    "from pyspark.sql.types import StructType, StructField, StringType, BooleanType, IntegerType, DoubleType, TimestampType\n",
    "from datetime import datetime\n",
    "import pytz\n",
    "import great_expectations as gx"
   ]
  },
  {
   "cell_type": "code",
   "execution_count": 0,
   "metadata": {
    "application/vnd.databricks.v1+cell": {
     "cellMetadata": {
      "byteLimit": 2048000,
      "rowLimit": 10000
     },
     "inputWidgets": {},
     "nuid": "f9c29e58-ebe8-405f-9dbf-cb35b1977f1a",
     "showTitle": false,
     "tableResultSettingsMap": {},
     "title": ""
    }
   },
   "outputs": [],
   "source": [
    "# Set directory to reference repository\n",
    "import sys\n",
    "sys.path.append(\"/Workspace/Users/your_user@youruser.com/Git_Folder/folder_name\")\n",
    "\n",
    "# Instantiate base Class\n",
    "from GX_Functions import GXRunner\n",
    "gx_runner = GXRunner()"
   ]
  },
  {
   "cell_type": "markdown",
   "metadata": {
    "application/vnd.databricks.v1+cell": {
     "cellMetadata": {},
     "inputWidgets": {},
     "nuid": "e96a54ce-2a09-4a64-91c8-f1ee2a346b9f",
     "showTitle": false,
     "tableResultSettingsMap": {},
     "title": ""
    }
   },
   "source": [
    "### Example Use Case"
   ]
  },
  {
   "cell_type": "code",
   "execution_count": 0,
   "metadata": {
    "application/vnd.databricks.v1+cell": {
     "cellMetadata": {
      "byteLimit": 2048000,
      "rowLimit": 10000
     },
     "inputWidgets": {},
     "nuid": "5dfcfe14-7131-48ec-af6e-5fdeab98d292",
     "showTitle": false,
     "tableResultSettingsMap": {},
     "title": ""
    }
   },
   "outputs": [],
   "source": [
    "# Define test DataFrame\n",
    "df = gx_runner.load_spark_df(\"catalog\", \"schema\", \"table\")"
   ]
  },
  {
   "cell_type": "code",
   "execution_count": 0,
   "metadata": {
    "application/vnd.databricks.v1+cell": {
     "cellMetadata": {
      "byteLimit": 2048000,
      "rowLimit": 10000
     },
     "inputWidgets": {},
     "nuid": "d6b42810-ad9f-4aff-8abb-7ba7b13b8547",
     "showTitle": false,
     "tableResultSettingsMap": {},
     "title": ""
    }
   },
   "outputs": [],
   "source": [
    "# Register your use case Expectations\n",
    "# Replace name with the name of the function you are creating\n",
    "# Adapt function arguments to GX parameters required - see functions gallery on https://greatexpectations.io/expectations\n",
    "\n",
    "gx_runner.register_expectation(\n",
    "    name=\"expect_unique\",\n",
    "    func=lambda column: gx.expectations.ExpectColumnValuesToBeUnique(column=column)\n",
    ")\n",
    "\n",
    "gx_runner.register_expectation(\n",
    "    name=\"expect_not_null\",\n",
    "    func=lambda column: gx.expectations.ExpectColumnValuesToNotBeNull(column=column)\n",
    ")\n",
    "\n",
    "gx_runner.register_expectation(\n",
    "    name=\"expect_length_equal\",\n",
    "    func=lambda column, value: gx.expectations.ExpectColumnValueLengthsToEqual(column=column, value=value)\n",
    ")\n",
    "\n",
    "# Recover registered functions\n",
    "expect_unique = gx_runner.get_expectation(\"expect_unique\")\n",
    "expect_not_null = gx_runner.get_expectation(\"expect_not_null\")"
   ]
  },
  {
   "cell_type": "code",
   "execution_count": 0,
   "metadata": {
    "application/vnd.databricks.v1+cell": {
     "cellMetadata": {
      "byteLimit": 2048000,
      "rowLimit": 10000
     },
     "inputWidgets": {},
     "nuid": "37ffb48c-b3b0-4197-9c2e-febf34a91359",
     "showTitle": false,
     "tableResultSettingsMap": {},
     "title": ""
    }
   },
   "outputs": [],
   "source": [
    "# Define Expectations_Config (tests) list to validate\n",
    "# func should be the recovered functions on previous step\n",
    "# params should include the parameters to pass to each function\n",
    "expectations_config = [\n",
    "    {\"func\": expect_unique, \"params\": {\"column\": \"pk_column\"}},\n",
    "    {\"func\": expect_not_null, \"params\": {\"column\": \"pk_column\"}},\n",
    "    # {\"func\": expect_length_equal, \"params\": {\"column\": \"pk_column\", \"value\": 555}},\n",
    "]"
   ]
  },
  {
   "cell_type": "code",
   "execution_count": 0,
   "metadata": {
    "application/vnd.databricks.v1+cell": {
     "cellMetadata": {
      "byteLimit": 2048000,
      "rowLimit": 10000
     },
     "inputWidgets": {},
     "nuid": "32e77e81-3922-4965-9eb2-ce02403e9b02",
     "showTitle": false,
     "tableResultSettingsMap": {},
     "title": ""
    }
   },
   "outputs": [],
   "source": [
    "# Register Teams action\n",
    "# How to create a Microsoft Teams Webhook: https://learn.microsoft.com/en-us/microsoftteams/platform/webhooks-and-connectors/how-to/add-incoming-webhook?tabs=newteams%2Cdotnet\n",
    "\n",
    "from great_expectations.checkpoint import MicrosoftTeamsNotificationAction\n",
    "gx_runner.register_action(\n",
    "    name=\"teams_notify\",\n",
    "    action_class=MicrosoftTeamsNotificationAction,\n",
    "    default_params={\n",
    "        \"name\": \"send_teams_notification_on_failed_expectations\",\n",
    "        \"teams_webhook\": dbutils.secrets.get(scope=\"scope_name\", key=\"teams_webhook_url\"), # to be replaced with your webhook\n",
    "        \"notify_on\": \"failure\"\n",
    "    }\n",
    ")\n",
    "\n",
    "# Store actions as list\n",
    "action_list = [gx_runner.build_action(\"teams_notify\")]"
   ]
  },
  {
   "cell_type": "markdown",
   "metadata": {
    "application/vnd.databricks.v1+cell": {
     "cellMetadata": {},
     "inputWidgets": {},
     "nuid": "8b17a802-a864-4fec-baaa-f94972343d90",
     "showTitle": false,
     "tableResultSettingsMap": {},
     "title": ""
    }
   },
   "source": [
    "The majority of GX objects need a name/string to be identified. These names are arbitrary, for example:\n",
    "* data_src_name = \"data_src_test\"\n",
    "* data_asset_name = \"data_asset_test\" (_can be same/add other data asset_)\n",
    "* batch_definition_name = \"test_batch\" (_can be other batch, e.g. for checking other expectations_)\n",
    "* suite_name = \"test_suite\" (_can be same/add other Suite_)\n",
    "* validation_definition_name = \"validation_test\" (_can add other validation definition_)\n",
    "* checkpoint_name = \"test_checkpoint\" (_can be other checkpoint_)"
   ]
  },
  {
   "cell_type": "code",
   "execution_count": 0,
   "metadata": {
    "application/vnd.databricks.v1+cell": {
     "cellMetadata": {
      "byteLimit": 2048000,
      "rowLimit": 10000
     },
     "inputWidgets": {},
     "nuid": "3cf2ff81-7f64-41c9-b21b-ad564810b05f",
     "showTitle": false,
     "tableResultSettingsMap": {},
     "title": ""
    }
   },
   "outputs": [],
   "source": [
    "# Run tests\n",
    "df_results = gx_runner.run_tests(df,\n",
    "                                 expectations_config,\n",
    "                                 action_list=action_list, \n",
    "                                 data_src_name= \"data_src_test\", \n",
    "                                 data_asset_name= \"data_asset_test\", \n",
    "                                 batch_definition_name= \"test_batch\", \n",
    "                                 suite_name= \"test_suite\",\n",
    "                                 validation_definition_name= \"validation_test\",\n",
    "                                 checkpoint_name= \"test_checkpoint\"\n",
    "                                 )"
   ]
  },
  {
   "cell_type": "code",
   "execution_count": 0,
   "metadata": {
    "application/vnd.databricks.v1+cell": {
     "cellMetadata": {
      "byteLimit": 2048000,
      "rowLimit": 10000
     },
     "inputWidgets": {},
     "nuid": "52f36d13-587d-4c2b-beab-e0a3ec12fed9",
     "showTitle": false,
     "tableResultSettingsMap": {},
     "title": ""
    }
   },
   "outputs": [],
   "source": [
    "display(df_results)"
   ]
  },
  {
   "cell_type": "markdown",
   "metadata": {
    "application/vnd.databricks.v1+cell": {
     "cellMetadata": {},
     "inputWidgets": {},
     "nuid": "626184be-b4ad-4b4d-ba1b-929cce281ca4",
     "showTitle": false,
     "tableResultSettingsMap": {},
     "title": ""
    }
   },
   "source": [
    "### Interesting use cases:\n",
    "\n",
    "* Using SQL to define a [Custom Expectation](https://docs.greatexpectations.io/docs/core/customize_expectations/use_sql_to_define_a_custom_expectation/) \n",
    "* Define a [Multi-source Expectation](https://docs.greatexpectations.io/docs/core/customize_expectations/define_a_multi_source_expectation/)\n",
    "\n",
    "Docs [reference](https://docs.greatexpectations.io/docs/core/introduction/gx_overview/)"
   ]
  }
 ],
 "metadata": {
  "application/vnd.databricks.v1+notebook": {
   "computePreferences": {
    "hardware": {
     "accelerator": null,
     "gpuPoolId": null,
     "memory": null
    }
   },
   "dashboards": [],
   "environmentMetadata": {
    "base_environment": "",
    "environment_version": "2"
   },
   "inputWidgetPreferences": null,
   "language": "python",
   "notebookMetadata": {
    "pythonIndentUnit": 4
   },
   "notebookName": "Demo GXRunner",
   "widgets": {}
  },
  "language_info": {
   "name": "python"
  }
 },
 "nbformat": 4,
 "nbformat_minor": 0
}